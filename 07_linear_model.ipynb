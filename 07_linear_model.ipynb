{
 "cells": [
  {
   "cell_type": "markdown",
   "metadata": {},
   "source": [
    "# Test Deep Learning"
   ]
  },
  {
   "cell_type": "code",
   "execution_count": 6,
   "metadata": {},
   "outputs": [],
   "source": [
    "import numpy as np\n",
    "from sklearn import datasets\n",
    "\n",
    "import torch\n",
    "import torch.nn as nn\n",
    "import torch.optim as optim\n",
    "\n",
    "import torchbnn as bnn"
   ]
  },
  {
   "cell_type": "code",
   "execution_count": 7,
   "metadata": {},
   "outputs": [],
   "source": [
    "import torch\n",
    "import torchvision\n",
    "import torchvision.transforms as transforms\n",
    "from sklearn.model_selection import train_test_split\n",
    "import pyarrow.feather as feather\n",
    "import pandas as pd\n",
    "import numpy as np\n",
    "from torch.utils.data import Dataset, DataLoader\n",
    "from tqdm.notebook import tqdm"
   ]
  },
  {
   "cell_type": "code",
   "execution_count": 8,
   "metadata": {},
   "outputs": [],
   "source": [
    "USE_ALL_SAMPLES = False"
   ]
  },
  {
   "cell_type": "code",
   "execution_count": 9,
   "metadata": {},
   "outputs": [],
   "source": [
    "rna_df = feather.read_feather(\"shared_data/rna_df.feather\")\n",
    "expression_df = feather.read_feather(\"shared_data/expression_df.feather\").drop(\n",
    "    [\"key\"], axis=1\n",
    ")\n",
    "methylation_data_df = feather.read_feather(\n",
    "    \"shared_data/methylation_data_df.feather\"\n",
    ").drop([\"PMR_INDEX\"], axis=1)\n",
    "mutation_data_df = feather.read_feather(\"shared_data/mutation_data_df.feather\")\n",
    "meth_data = torch.tensor(\n",
    "    methylation_data_df.transpose().astype(np.float64).values\n",
    ").float()\n",
    "expression_data = torch.tensor(\n",
    "    expression_df.values.transpose().astype(np.float64)\n",
    ").float()"
   ]
  },
  {
   "cell_type": "code",
   "execution_count": 10,
   "metadata": {},
   "outputs": [
    {
     "data": {
      "text/plain": [
       "(98, 2586)"
      ]
     },
     "execution_count": 10,
     "metadata": {},
     "output_type": "execute_result"
    }
   ],
   "source": [
    "methylation_data_df.shape"
   ]
  },
  {
   "cell_type": "code",
   "execution_count": 11,
   "metadata": {},
   "outputs": [],
   "source": [
    "expression_data_train, expression_data_test, meth_data_train, meth_data_test = train_test_split(expression_data,meth_data,  test_size=0.33, random_state=42)"
   ]
  },
  {
   "cell_type": "code",
   "execution_count": 12,
   "metadata": {},
   "outputs": [
    {
     "name": "stdout",
     "output_type": "stream",
     "text": [
      "torch.Size([1732, 60660])\n",
      "torch.Size([854, 60660])\n",
      "torch.Size([1732, 98])\n",
      "torch.Size([854, 98])\n"
     ]
    }
   ],
   "source": [
    "for l in [expression_data_train, expression_data_test, meth_data_train, meth_data_test]:\n",
    "    print(l.shape)"
   ]
  },
  {
   "cell_type": "code",
   "execution_count": 13,
   "metadata": {},
   "outputs": [],
   "source": [
    "class CancerDataset(Dataset):\n",
    "    def __init__(self, expression_data, meth_data):\n",
    "        super(CancerDataset, self).__init__()\n",
    "        self.dataset = list(zip(expression_data, meth_data))\n",
    "\n",
    "    def prepare_item(self, item):\n",
    "        return item[0], item[1]\n",
    "\n",
    "    def __getitem__(self, index):\n",
    "        return self.prepare_item(self.dataset[index])\n",
    "\n",
    "    def __len__(self):\n",
    "        return len(self.dataset)"
   ]
  },
  {
   "cell_type": "code",
   "execution_count": 14,
   "metadata": {},
   "outputs": [],
   "source": [
    "train_dataset = CancerDataset(expression_data_train, meth_data_train, )\n",
    "val_dataset = CancerDataset(expression_data_test, meth_data_test, )\n",
    "\n",
    "trainloader = DataLoader(\n",
    "    train_dataset, batch_size=3\n",
    ")\n",
    "valloader = DataLoader(\n",
    "    val_dataset, batch_size=3\n",
    ")"
   ]
  },
  {
   "cell_type": "code",
   "execution_count": 15,
   "metadata": {},
   "outputs": [],
   "source": [
    "import matplotlib.pyplot as plt"
   ]
  },
  {
   "cell_type": "code",
   "execution_count": 16,
   "metadata": {},
   "outputs": [
    {
     "data": {
      "text/plain": [
       "torch.Size([1732, 60660])"
      ]
     },
     "execution_count": 16,
     "metadata": {},
     "output_type": "execute_result"
    }
   ],
   "source": [
    "expression_data_train.size()"
   ]
  },
  {
   "cell_type": "code",
   "execution_count": 17,
   "metadata": {},
   "outputs": [
    {
     "data": {
      "text/plain": [
       "torch.Size([1732, 98])"
      ]
     },
     "execution_count": 17,
     "metadata": {},
     "output_type": "execute_result"
    }
   ],
   "source": [
    "meth_data_train.size()"
   ]
  },
  {
   "cell_type": "code",
   "execution_count": 18,
   "metadata": {},
   "outputs": [
    {
     "data": {
      "text/plain": [
       "False"
      ]
     },
     "execution_count": 18,
     "metadata": {},
     "output_type": "execute_result"
    }
   ],
   "source": [
    "torch.cuda.is_available()"
   ]
  },
  {
   "cell_type": "code",
   "execution_count": 19,
   "metadata": {},
   "outputs": [
    {
     "data": {
      "text/plain": [
       "0"
      ]
     },
     "execution_count": 19,
     "metadata": {},
     "output_type": "execute_result"
    }
   ],
   "source": [
    "torch.cuda.device_count()"
   ]
  },
  {
   "cell_type": "code",
   "execution_count": 20,
   "metadata": {},
   "outputs": [],
   "source": [
    "device = torch.device(\"cuda\" if torch.cuda.is_available() else \"cpu\") ## specify the GPU id's, GPU id's start from 0."
   ]
  },
  {
   "cell_type": "markdown",
   "metadata": {},
   "source": [
    "## 2. Define Model"
   ]
  },
  {
   "cell_type": "code",
   "execution_count": 21,
   "metadata": {},
   "outputs": [],
   "source": [
    "model = nn.Sequential(\n",
    "    nn.Linear(60660, 100),\n",
    "    nn.ReLU(),\n",
    "    nn.Linear(100, 98)\n",
    "    # nn.Linear(60660, 30000),\n",
    "    # nn.ReLU(),\n",
    "    # nn.Linear(30000, 15000),\n",
    "    # nn.ReLU(),\n",
    "    # nn.Linear(15000, 7500),\n",
    "    # nn.ReLU(),\n",
    "    # nn.Linear(7500, 98),\n",
    ").to(device)"
   ]
  },
  {
   "cell_type": "code",
   "execution_count": 22,
   "metadata": {},
   "outputs": [],
   "source": [
    "mse_loss = nn.MSELoss()\n",
    "kl_loss = bnn.BKLLoss(reduction='mean', last_layer_only=False)\n",
    "kl_weight = 0.01\n",
    "# objective = nn.CrossEntropyLoss()\n",
    "\n",
    "optimizer = optim.Adam(model.parameters(), lr=0.01)"
   ]
  },
  {
   "cell_type": "markdown",
   "metadata": {},
   "source": [
    "## 3. Train Model"
   ]
  },
  {
   "cell_type": "code",
   "execution_count": 23,
   "metadata": {},
   "outputs": [],
   "source": [
    "val_every = 5\n",
    "train_losses = []\n",
    "val_losses = []\n",
    "epochs = 20"
   ]
  },
  {
   "cell_type": "code",
   "execution_count": 24,
   "metadata": {},
   "outputs": [],
   "source": [
    "def evaluate(model, mse, kl, val_loader):\n",
    "\n",
    "    val_losses = []\n",
    "\n",
    "    model.eval()\n",
    "    with torch.no_grad():\n",
    "        for expression, methylation in val_loader:\n",
    "\n",
    "            expression, methylation = expression.to(device), methylation.to(device)\n",
    "            pred = model(expression)\n",
    "\n",
    "            mse = mse_loss(pred, methylation)\n",
    "            kl = kl_loss(model)\n",
    "            cost = mse + kl_weight*kl\n",
    "\n",
    "            val_losses.append(cost.item())\n",
    "\n",
    "    model.train()\n",
    "\n",
    "    return torch.mean(torch.Tensor(val_losses))"
   ]
  },
  {
   "cell_type": "code",
   "execution_count": 25,
   "metadata": {},
   "outputs": [
    {
     "data": {
      "application/vnd.jupyter.widget-view+json": {
       "model_id": "5e002d5e9eb546fdabffa4d0b06ad137",
       "version_major": 2,
       "version_minor": 0
      },
      "text/plain": [
       "  0%|          | 0/11560 [00:00<?, ?it/s]"
      ]
     },
     "metadata": {},
     "output_type": "display_data"
    }
   ],
   "source": [
    "loop = tqdm(total=len(trainloader) * epochs)\n",
    "last_val_loss = None\n",
    "for epoch in range(epochs):\n",
    "\n",
    "    for i, (expression, methylation) in enumerate(trainloader):\n",
    "        expression, methylation = expression.to(device), methylation.to(device)\n",
    "        optimizer.zero_grad()\n",
    "\n",
    "        pred = model(expression)\n",
    "        mse = mse_loss(pred, methylation)\n",
    "        kl = kl_loss(model)\n",
    "        cost = mse + kl_weight*kl\n",
    "        train_losses.append(cost.item())\n",
    "\n",
    "        cost.backward()\n",
    "        optimizer.step()\n",
    "\n",
    "    \n",
    "        if (i+1) % val_every == 0:\n",
    "            val_loss = evaluate(model, mse, kl, valloader)\n",
    "            last_val_loss = val_loss\n",
    "            val_losses.append((len(train_losses), val_loss))\n",
    "        loop.set_description('train - Cost: %2.2f MSE : %2.2f, KL : %2.2f' % (cost.item(), mse.item(), kl.item()) + '\\nval loss:{:.4f}'.format(last_val_loss.item() ) if last_val_loss is not None else '')\n",
    "        loop.update(1)\n",
    "    \n"
   ]
  },
  {
   "cell_type": "code",
   "execution_count": null,
   "metadata": {},
   "outputs": [
    {
     "data": {
      "image/png": "[encoded data removed]",
      "text/plain": [
       "<Figure size 640x480 with 1 Axes>"
      ]
     },
     "metadata": {},
     "output_type": "display_data"
    },
    {
     "data": {
      "image/png": "[encoded data removed]",
      "text/plain": [
       "<Figure size 640x480 with 1 Axes>"
      ]
     },
     "metadata": {},
     "output_type": "display_data"
    }
   ],
   "source": [
    "plt.plot(np.arange(len(train_losses)), train_losses, label='Train Loss')\n",
    "plt.title(\"Linear Model Gene Expression to Methylaton\")\n",
    "\n",
    "plt.xlabel('Train Time')\n",
    "plt.ylabel('Loss')\n",
    "plt.legend()\n",
    "plt.show()\n",
    "\n",
    "x, val_loss = zip(*val_losses)\n",
    "plt.plot(x, val_loss, label='Val Loss')\n",
    "plt.title(\"Linear Model Gene Expression to Methylaton\")\n",
    "x_text = (len(x)) * 0.05\n",
    "y_text = max(val_loss) * 0.9\n",
    "plt.text(\n",
    "    x_text,\n",
    "    y_text,\n",
    "    f\"MSE: {last_val_loss.item():.2f}\",\n",
    "    fontsize=12,\n",
    ")\n",
    "plt.xlabel('Train Time')\n",
    "plt.ylabel('Loss')\n",
    "plt.legend()\n",
    "plt.show()"
   ]
  },
  {
   "cell_type": "code",
   "execution_count": null,
   "metadata": {},
   "outputs": [],
   "source": [
    "model_scripted = torch.jit.script(model)  # Export to TorchScript\n",
    "if USE_ALL_SAMPLES:\n",
    "    model_scripted.save(\"linear_model_script.all_samples.pt\")\n",
    "else:\n",
    "    model_scripted.save(\"linear_model_script.pt\")"
   ]
  },
  {
   "cell_type": "code",
   "execution_count": null,
   "metadata": {},
   "outputs": [],
   "source": [
    "linear_model = torch.jit.load(\"linear_model_script.pt\")"
   ]
  },
  {
   "cell_type": "code",
   "execution_count": null,
   "metadata": {},
   "outputs": [
    {
     "data": {
      "text/plain": [
       "OrderedDict([('0.weight',\n",
       "              tensor([[-1.8331e-02, -3.0088e-03, -2.8715e-02,  ...,  1.4622e-03,\n",
       "                        3.9684e-03, -1.1469e-03],\n",
       "                      [-6.2707e-02, -3.2531e-03, -6.3109e-02,  ..., -3.8277e-04,\n",
       "                        2.1649e-03, -6.1332e-02],\n",
       "                      [-5.5590e-02,  7.0106e-04, -5.3464e-02,  ..., -1.1884e-03,\n",
       "                        1.4682e-04, -1.2443e-04],\n",
       "                      ...,\n",
       "                      [-6.2340e-02, -3.7922e-03, -6.3296e-02,  ...,  4.0560e-03,\n",
       "                       -2.3012e-03,  6.3129e-02],\n",
       "                      [ 5.6064e-02,  1.1322e-03, -6.2172e-02,  ..., -3.7235e-03,\n",
       "                       -3.2484e-03, -6.0817e-02],\n",
       "                      [-4.8679e-02,  2.0383e-03, -4.9130e-02,  ...,  3.6309e-03,\n",
       "                       -4.0020e-03,  8.6106e-07]])),\n",
       "             ('0.bias',\n",
       "              tensor([-0.0319, -0.0621, -0.0513, -0.0578, -0.0503, -0.1225, -0.0487, -0.0464,\n",
       "                      -0.0613, -0.0551, -0.0608, -0.0520, -0.0494, -0.0598, -0.0577, -0.0610,\n",
       "                      -0.0623, -0.0621, -0.0548, -0.0578, -0.0337, -0.0549, -0.0606, -0.0582,\n",
       "                      -0.0516, -0.0621, -0.0532, -0.0526, -0.0567, -0.0602, -0.0477, -0.0567,\n",
       "                      -0.0639, -0.0629, -0.0635, -0.0563, -0.0927, -0.0626, -0.0583, -0.0401,\n",
       "                      -0.0515, -0.0625, -0.0568, -0.0420, -0.0523, -0.0457, -0.0616, -0.0606,\n",
       "                      -0.0582, -0.0562, -0.0620, -0.0434, -0.0366, -0.0616, -0.0534, -0.0581,\n",
       "                      -0.0525, -0.0580, -0.0578, -0.0617, -0.0568, -0.0627, -0.0503, -0.0577,\n",
       "                      -0.0526, -0.0476, -0.0592, -0.0570, -0.0596, -0.0601, -0.0583, -0.0554,\n",
       "                      -0.0618, -0.0590, -0.0497, -0.0542, -0.0488, -0.0562, -0.0568, -0.0631,\n",
       "                      -0.0502, -0.0482, -0.0632, -0.0633, -0.0426, -0.0853, -0.0623, -0.0028,\n",
       "                      -0.0575, -0.0623, -0.0575, -0.0532, -0.0570, -0.0490, -0.0485, -0.0583,\n",
       "                      -0.0552, -0.0608, -0.0592, -0.0507])),\n",
       "             ('2.weight',\n",
       "              tensor([[-0.0093,  0.1524,  0.0314,  ...,  0.1540,  0.1246,  0.0361],\n",
       "                      [ 0.0565,  0.0505,  0.0284,  ...,  0.1068,  0.0057, -0.0572],\n",
       "                      [-0.0890, -0.0043, -0.0167,  ...,  0.0279,  0.1351, -0.0485],\n",
       "                      ...,\n",
       "                      [ 0.0186,  0.1120,  0.1546,  ...,  0.0686, -0.0071,  0.0444],\n",
       "                      [-0.0226,  0.1525,  0.1316,  ...,  0.0040,  0.1461, -0.0092],\n",
       "                      [-0.0326,  0.0102,  0.0340,  ..., -0.0026,  0.0416,  0.0773]])),\n",
       "             ('2.bias',\n",
       "              tensor([43.6716, 41.7474, 61.6425, 56.7538, 56.9661, 37.7478, 35.6022, 51.0147,\n",
       "                      56.9040, 53.8937, 35.5918, 46.2975, 33.0191, 29.0709, 43.1950, 28.8351,\n",
       "                      49.5904, 60.9231, 58.3977, 53.0772, 56.4677, 32.6070, 49.9115, 38.5253,\n",
       "                      35.0784, 52.3327, 47.2963, 45.3721, 33.4645, 35.9257, 37.0161, 32.0914,\n",
       "                      48.6834, 62.7020, 52.8695, 46.5601, 50.4352, 52.9011, 39.2639, 56.4732,\n",
       "                      41.1142, 54.3582, 50.3838, 38.8755, 41.9824, 40.3516, 47.6048, 49.3729,\n",
       "                      50.1218, 42.4457, 32.3627, 44.2962, 46.0811, 36.8052, 52.3704, 46.9758,\n",
       "                      33.1156, 33.8551, 26.1907, 31.7107, 41.0818, 53.4838, 59.7587, 57.8449,\n",
       "                      42.4278, 45.6078, 58.1187, 59.0319, 51.9902, 61.0808, 52.2315, 41.3938,\n",
       "                      30.3559, 28.3934, 38.9428, 37.9609, 34.4974, 38.8523, 32.9245, 57.9218,\n",
       "                      59.3710, 36.6926, 44.2344, 52.3948, 35.8105, 47.4311, 39.7981, 48.0128,\n",
       "                      61.5734, 41.1491, 40.4773, 55.4610, 47.3404, 28.5194, 57.5709, 44.5968,\n",
       "                      57.6302, 54.6293]))])"
      ]
     },
     "execution_count": 45,
     "metadata": {},
     "output_type": "execute_result"
    }
   ],
   "source": [
    "linear_model.state_dict()"
   ]
  },
  {
   "cell_type": "code",
   "execution_count": null,
   "metadata": {},
   "outputs": [
    {
     "data": {
      "text/plain": [
       "PearsonRResult(statistic=-0.03645964596459647, pvalue=0.7187481579474091)"
      ]
     },
     "execution_count": 18,
     "metadata": {},
     "output_type": "execute_result"
    }
   ],
   "source": [
    "import numpy as np\n",
    "from scipy.stats import spearmanr, pearsonr, kendalltau\n",
    "from sklearn.metrics import mean_squared_error, r2_score\n",
    "\n",
    "import random\n",
    "ones = [i for i in range(100)]\n",
    "ones_2 = [i for i in range(100)]\n",
    "random.shuffle(ones_2)\n",
    "pearsonr(ones, ones_2)"
   ]
  },
  {
   "cell_type": "code",
   "execution_count": null,
   "metadata": {},
   "outputs": [],
   "source": [
    "actual = []\n",
    "predicted = []\n",
    "linear_model.eval()\n",
    "with torch.no_grad():\n",
    "    for expression, methylation in valloader:\n",
    "\n",
    "        expression, methylation = expression.to(device), methylation.to(device)\n",
    "        pred = linear_model(expression)\n",
    "        actual.extend(methylation.cpu().numpy().flatten().tolist())\n",
    "        predicted.extend(pred.cpu().numpy().flatten().tolist())\n",
    "\n",
    "\n",
    "pearson_corr, _ = pearsonr(actual, predicted)\n",
    "mse = mean_squared_error(actual, predicted)\n",
    "r2 = r2_score(actual, predicted)\n",
    "\n",
    "# Plot the Results\n",
    "plt.scatter(actual, predicted)\n",
    "plt.xlabel(\"True Methylation Levels\")\n",
    "plt.ylabel(\"Predicted Methylation Levels\")\n",
    "plt.title(\"Neual Network Gene Expression Regressor Predictions vs True Values\")\n",
    "plt.plot(\n",
    "    [min(actual), max(predicted)],\n",
    "    [min(actual), max(predicted)],\n",
    "    \"k--\",\n",
    "    lw=4,\n",
    ")\n",
    "\n",
    "x_text = min(actual) + (max(actual) - min(actual)) * 0.9\n",
    "y_text = min(predicted) + (max(predicted) - min(predicted)) * 0.05\n",
    "\n",
    "plt.text(\n",
    "    x_text,\n",
    "    y_text,\n",
    "    f\"MSE: {mse:.2f}\\nR²: {r2:.2f}\\nPearson Correlation: {pearson_corr:.2f}\",\n",
    "    fontsize=12,\n",
    ")\n",
    "\n",
    "plt.show()"
   ]
  },
  {
   "cell_type": "code",
   "execution_count": null,
   "metadata": {},
   "outputs": [],
   "source": []
  }
 ],
 "metadata": {
  "kernelspec": {
   "display_name": "Python 3",
   "language": "python",
   "name": "python3"
  },
  "language_info": {
   "codemirror_mode": {
    "name": "ipython",
    "version": 3
   },
   "file_extension": ".py",
   "mimetype": "text/x-python",
   "name": "python",
   "nbconvert_exporter": "python",
   "pygments_lexer": "ipython3",
   "version": "3.11.5"
  }
 },
 "nbformat": 4,
 "nbformat_minor": 2
}
